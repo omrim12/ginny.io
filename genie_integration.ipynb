{
  "nbformat": 4,
  "nbformat_minor": 0,
  "metadata": {
    "colab": {
      "provenance": [],
      "toc_visible": true
    },
    "kernelspec": {
      "name": "python3",
      "display_name": "Python 3"
    },
    "language_info": {
      "name": "python"
    },
    "accelerator": "GPU",
    "gpuClass": "standard"
  },
  "cells": [
    {
      "cell_type": "markdown",
      "source": [
        "# Genie.io integration for running with Google Colab GPU"
      ],
      "metadata": {
        "id": "6H_EPMf_VzJ8"
      }
    },
    {
      "cell_type": "markdown",
      "source": [
        "### Create `genie.io` environment"
      ],
      "metadata": {
        "id": "u0yu3C5ynTA8"
      }
    },
    {
      "cell_type": "code",
      "execution_count": null,
      "metadata": {
        "id": "wOMU3jmS7x94"
      },
      "outputs": [],
      "source": [
        "# clone genie.io project repo from \n",
        "!git clone https://github.com/omrim12/genie.io.git\n",
        "\n",
        "# create python virtualenv\n",
        "!python -m venv genie.io/venv && source genie.io/venv/bin/activate\n",
        "\n",
        "# install env pip requirements\n",
        "!pip install -r genie.io/requirements.txt"
      ]
    },
    {
      "cell_type": "markdown",
      "source": [
        "###  Download `food-101` dataset images from Kaggle API"
      ],
      "metadata": {
        "id": "XzkHXHPpXifn"
      }
    },
    {
      "cell_type": "code",
      "source": [
        "# create images sub directory\n",
        "!mkdir genie.io/images\n",
        "\n",
        "# create kaggle api credentials\n",
        "!mkdir ~/.kaggle\n",
        "!touch ~/.kaggle/kaggle.json\n",
        "\n",
        "api_token = {\n",
        "    \"username\":\"obarhaim\",\n",
        "    \"key\":\"b928d508a9aca6069b2e67a70879e0be\"\n",
        "}\n",
        "\n",
        "import json\n",
        "\n",
        "with open('/root/.kaggle/kaggle.json', 'w') as file:\n",
        "    json.dump(api_token, file)\n",
        "\n",
        "!chmod 600 ~/.kaggle/kaggle.json\n",
        "\n",
        "\n",
        "# download food-101 using kaggle cli\n",
        "!kaggle datasets download -d dansbecker/food-101\n",
        "\n",
        "# inject food-101 dataset to project dir\n",
        "!unzip food-101.zip -d genie.io/images/"
      ],
      "metadata": {
        "id": "p5GaEuAAYxU-"
      },
      "execution_count": null,
      "outputs": []
    },
    {
      "cell_type": "markdown",
      "source": [
        "### Run `genie.io` CNN train and CLI session "
      ],
      "metadata": {
        "id": "kshVVZa4W505"
      }
    },
    {
      "cell_type": "code",
      "source": [
        "!cd genie.io/ && python genie_driver.py"
      ],
      "metadata": {
        "id": "0Jbr6n3gXJSR"
      },
      "execution_count": null,
      "outputs": []
    }
  ]
}
